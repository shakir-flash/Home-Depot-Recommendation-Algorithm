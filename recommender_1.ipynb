{
 "cells": [
  {
   "cell_type": "markdown",
   "metadata": {},
   "source": [
    "# The Home Depot - Use Case Study (Content recommender system)"
   ]
  },
  {
   "cell_type": "markdown",
   "metadata": {},
   "source": [
    "## Library initialization and Data Load"
   ]
  },
  {
   "cell_type": "code",
   "execution_count": 1,
   "metadata": {},
   "outputs": [
    {
     "name": "stdout",
     "output_type": "stream",
     "text": [
      "                                    slug  \\\n",
      "0         best-grow-lights-for-seedlings   \n",
      "1          best-wall-decor-for-your-home   \n",
      "2  how-to-kill-weeds-early-in-the-season   \n",
      "3               best-pellets-for-smoking   \n",
      "4                best-work-light-for-you   \n",
      "\n",
      "                                   title  \n",
      "0         Best Grow Lights for Seedlings  \n",
      "1          Best Wall Decor for Your Home  \n",
      "2  How to Kill Weeds Early in the Season  \n",
      "3             Grill Pellets Buying Guide  \n",
      "4                Best Work Light for You  \n",
      "                                          searchTerm  \\\n",
      "0                                   #4 #14 connector   \n",
      "1  03-09 z1000 04-12 z750 05-07 z750s 11-12 z750r...   \n",
      "2                                1 gal #380c-3 paint   \n",
      "3                                   1 gal #610 paint   \n",
      "4                                 1 gal #ae-38 paint   \n",
      "\n",
      "                                slug     Label  \n",
      "0             types-of-pipe-fittings  RELEVANT  \n",
      "1     best-air-filters-for-your-home  RELEVANT  \n",
      "2   best-ceiling-paint-for-your-home  RELEVANT  \n",
      "3  best-exterior-paint-for-your-home  RELEVANT  \n",
      "4        how-to-use-a-paint-sprayer-  RELEVANT  \n",
      "                              searchTerm\n",
      "0  34 in. to 36 in. x 72 in. shower door\n",
      "1          outdoor prelit christmas tree\n",
      "2                            respirators\n",
      "3        1 gal #hdgb28 paint with primer\n",
      "4                              hydrangea\n"
     ]
    },
    {
     "name": "stderr",
     "output_type": "stream",
     "text": [
      "[nltk_data] Downloading package averaged_perceptron_tagger to\n",
      "[nltk_data]     C:\\Users\\shaki\\AppData\\Roaming\\nltk_data...\n",
      "[nltk_data]   Package averaged_perceptron_tagger is already up-to-\n",
      "[nltk_data]       date!\n",
      "[nltk_data] Downloading package wordnet to\n",
      "[nltk_data]     C:\\Users\\shaki\\AppData\\Roaming\\nltk_data...\n",
      "[nltk_data]   Package wordnet is already up-to-date!\n",
      "[nltk_data] Downloading package stopwords to\n",
      "[nltk_data]     C:\\Users\\shaki\\AppData\\Roaming\\nltk_data...\n",
      "[nltk_data]   Package stopwords is already up-to-date!\n"
     ]
    }
   ],
   "source": [
    "# Import necessary libraries\n",
    "import pandas as pd\n",
    "import torch\n",
    "from transformers import BertTokenizer, BertModel\n",
    "from sklearn.metrics.pairwise import cosine_similarity\n",
    "from sklearn.metrics import classification_report, accuracy_score\n",
    "import numpy as np\n",
    "import nltk\n",
    "from nltk.corpus import stopwords\n",
    "from nltk.stem import WordNetLemmatizer\n",
    "from nltk import pos_tag\n",
    "\n",
    "# Download necessary NLTK resources\n",
    "nltk.download('averaged_perceptron_tagger')\n",
    "nltk.download('wordnet')\n",
    "nltk.download('stopwords')\n",
    "\n",
    "# Load stopwords and initialize lemmatizer\n",
    "stop_words = set(stopwords.words('english'))\n",
    "lemmatizer = WordNetLemmatizer()\n",
    "\n",
    "# Load datasets\n",
    "content_data = pd.read_csv('data/content_data_MASTER.csv')\n",
    "label_data = pd.read_csv('data/labels_MASTER.csv', header=None)\n",
    "test_data = pd.read_csv('data/test_MASTER.csv')\n",
    "\n",
    "# Set the header using the row at index 726\n",
    "label_data.columns = label_data.iloc[726].values\n",
    "label_data = label_data.drop(index=726)\n",
    "\n",
    "# Display the first few rows for exploration\n",
    "print(content_data.head())\n",
    "print(label_data.head())\n",
    "print(test_data.head())"
   ]
  },
  {
   "cell_type": "markdown",
   "metadata": {},
   "source": [
    "## Exploratory Data Analysis"
   ]
  },
  {
   "cell_type": "code",
   "execution_count": 2,
   "metadata": {},
   "outputs": [
    {
     "name": "stdout",
     "output_type": "stream",
     "text": [
      "Basic Information of the Content Data:\n",
      "<class 'pandas.core.frame.DataFrame'>\n",
      "RangeIndex: 3191 entries, 0 to 3190\n",
      "Data columns (total 2 columns):\n",
      " #   Column  Non-Null Count  Dtype \n",
      "---  ------  --------------  ----- \n",
      " 0   slug    3191 non-null   object\n",
      " 1   title   3191 non-null   object\n",
      "dtypes: object(2)\n",
      "memory usage: 50.0+ KB\n",
      "None\n",
      "\n",
      "Basic Information of the Labels Data:\n",
      "<class 'pandas.core.frame.DataFrame'>\n",
      "Index: 853 entries, 0 to 853\n",
      "Data columns (total 3 columns):\n",
      " #   Column      Non-Null Count  Dtype \n",
      "---  ------      --------------  ----- \n",
      " 0   searchTerm  853 non-null    object\n",
      " 1   slug        853 non-null    object\n",
      " 2   Label       853 non-null    object\n",
      "dtypes: object(3)\n",
      "memory usage: 26.7+ KB\n",
      "None\n",
      "\n",
      "Basic Information of the Test Data:\n",
      "<class 'pandas.core.frame.DataFrame'>\n",
      "RangeIndex: 5 entries, 0 to 4\n",
      "Data columns (total 1 columns):\n",
      " #   Column      Non-Null Count  Dtype \n",
      "---  ------      --------------  ----- \n",
      " 0   searchTerm  5 non-null      object\n",
      "dtypes: object(1)\n",
      "memory usage: 172.0+ bytes\n",
      "None\n"
     ]
    }
   ],
   "source": [
    "# 1. Basic Information\n",
    "print(\"Basic Information of the Content Data:\")\n",
    "print(content_data.info())\n",
    "\n",
    "print(\"\\nBasic Information of the Labels Data:\")\n",
    "print(label_data.info())\n",
    "\n",
    "print(\"\\nBasic Information of the Test Data:\")\n",
    "print(test_data.info())"
   ]
  },
  {
   "cell_type": "code",
   "execution_count": 3,
   "metadata": {},
   "outputs": [
    {
     "name": "stdout",
     "output_type": "stream",
     "text": [
      "\n",
      "Summary of Content Data:\n",
      "                        slug                        title\n",
      "count                   3191                         3191\n",
      "unique                  3141                         3146\n",
      "top     garage-storage-ideas  How to Get Rid of Fire Ants\n",
      "freq                       3                            3\n",
      "\n",
      "Summary of Labels Data:\n",
      "              searchTerm                 slug     Label\n",
      "count                853                  853       853\n",
      "unique               853                  499         2\n",
      "top     #4 #14 connector  bathroom-tile-ideas  RELEVANT\n",
      "freq                   1                   11       612\n",
      "\n",
      "Summary of Test Data:\n",
      "                                   searchTerm\n",
      "count                                       5\n",
      "unique                                      5\n",
      "top     34 in. to 36 in. x 72 in. shower door\n",
      "freq                                        1\n"
     ]
    }
   ],
   "source": [
    "# 2. Summary statistics\n",
    "print(\"\\nSummary of Content Data:\")\n",
    "print(content_data.describe())\n",
    "\n",
    "print(\"\\nSummary of Labels Data:\")\n",
    "print(label_data.describe())\n",
    "\n",
    "print(\"\\nSummary of Test Data:\")\n",
    "print(test_data.describe())"
   ]
  },
  {
   "cell_type": "code",
   "execution_count": 4,
   "metadata": {},
   "outputs": [
    {
     "name": "stdout",
     "output_type": "stream",
     "text": [
      "\n",
      "Distribution of the 'Label' column in Labels Data:\n",
      "Label\n",
      "RELEVANT        612\n",
      "NOT RELEVANT    241\n",
      "Name: count, dtype: int64\n"
     ]
    }
   ],
   "source": [
    "# 4. Distribution of 'Label' column in the labels data\n",
    "print(\"\\nDistribution of the 'Label' column in Labels Data:\")\n",
    "print(label_data['Label'].value_counts())"
   ]
  },
  {
   "cell_type": "code",
   "execution_count": 5,
   "metadata": {},
   "outputs": [
    {
     "name": "stdout",
     "output_type": "stream",
     "text": [
      "\n",
      "Duplicate Titles in Content Data:\n",
      "                                                   slug  \\\n",
      "43                         how-to-clean-an-air-purifier   \n",
      "46                   best-safety-equipment-for-painting   \n",
      "125             how-to-insulate-windows-in-cold-weather   \n",
      "212   the-best-ice-cream-makers-for-homemade-frozen-...   \n",
      "216                         how-to-paint-interior-doors   \n",
      "...                                                 ...   \n",
      "2669                       front-yard-landscaping-ideas   \n",
      "2715  5-clever-kitchen-upgrades-you-never-knew-you-n...   \n",
      "2730                               best-carpet-for-pets   \n",
      "3107             how-to-install-hexagon-tile-backsplash   \n",
      "3108             how-to-install-hexagon-tile-backsplash   \n",
      "\n",
      "                                                  title  \n",
      "43                         How to Clean an Air Purifier  \n",
      "46                   Best Safety Equipment for Painting  \n",
      "125             How to Insulate Windows in Cold Weather  \n",
      "212   The Best Ice Cream Makers for Homemade Frozen ...  \n",
      "216                         How to Paint Interior Doors  \n",
      "...                                                 ...  \n",
      "2669                       Front Yard Landscaping Ideas  \n",
      "2715  5 Clever Kitchen Upgrades You Never Knew You N...  \n",
      "2730                               Best Carpet for Pets  \n",
      "3107             How to Install Hexagon Tile Backsplash  \n",
      "3108             How to Install Hexagon Tile Backsplash  \n",
      "\n",
      "[88 rows x 2 columns]\n"
     ]
    }
   ],
   "source": [
    "# 5. Check for duplicates in the content data\n",
    "print(\"\\nDuplicate Titles in Content Data:\")\n",
    "print(content_data[content_data.duplicated(subset='title', keep=False)])"
   ]
  },
  {
   "cell_type": "code",
   "execution_count": 6,
   "metadata": {},
   "outputs": [
    {
     "name": "stdout",
     "output_type": "stream",
     "text": [
      "\n",
      "Top 10 Frequent Search Terms in Labels Data:\n",
      "searchTerm\n",
      "#4 #14 connector                         1\n",
      "klein tools electronics                  1\n",
      "kohler 2-piece 1.28 toilet in biscuit    1\n",
      "kohler 22.25 in. sink in sandbar         1\n",
      "laguna point patio furniture             1\n",
      "laminate floor sealant                   1\n",
      "lbl lighting 1-light led                 1\n",
      "led sunlite uv light bulb                1\n",
      "led vanity light                         1\n",
      "legrand conduit elbow                    1\n",
      "Name: count, dtype: int64\n"
     ]
    }
   ],
   "source": [
    "# 6. Frequent search terms in the labels data\n",
    "print(\"\\nTop 10 Frequent Search Terms in Labels Data:\")\n",
    "print(label_data['searchTerm'].value_counts().head(10))"
   ]
  },
  {
   "cell_type": "code",
   "execution_count": 7,
   "metadata": {},
   "outputs": [
    {
     "name": "stdout",
     "output_type": "stream",
     "text": [
      "\n",
      "Top 10 Frequent Content Titles in Content Data:\n",
      "title\n",
      "How to Get Rid of Fire Ants         3\n",
      "Garage Storage Ideas                3\n",
      "How to Hang a Wallpaper Border      2\n",
      "How to Clean Stainless Steel        2\n",
      "How to Put on a Duvet Cover         2\n",
      "How to Build a Chicken Coop         2\n",
      "How to Care for Orchids             2\n",
      "How to Pack for a Move              2\n",
      "Types of Sandpaper and Abrasives    2\n",
      "How to Clean a Toilet               2\n",
      "Name: count, dtype: int64\n"
     ]
    }
   ],
   "source": [
    "# 7. Frequent content titles in the content data\n",
    "print(\"\\nTop 10 Frequent Content Titles in Content Data:\")\n",
    "print(content_data['title'].value_counts().head(10))"
   ]
  },
  {
   "cell_type": "markdown",
   "metadata": {},
   "source": [
    "## Data Cleaning"
   ]
  },
  {
   "cell_type": "code",
   "execution_count": 8,
   "metadata": {},
   "outputs": [],
   "source": [
    "#labels.to_csv('labels_check.csv', index=False)\n",
    "#content.to_csv('content_check.csv', index=False)\n",
    "#test.to_csv('test_check.csv', index=False)"
   ]
  },
  {
   "cell_type": "code",
   "execution_count": 9,
   "metadata": {},
   "outputs": [],
   "source": [
    "# Define preprocessing function with stopword removal, lemmatization, and POS tagging\n",
    "def preprocess_text(text):\n",
    "    text = text.lower()\n",
    "    tokens = text.split()\n",
    "    processed_tokens = []\n",
    "    for word, tag in pos_tag(tokens):\n",
    "        if word not in stop_words:\n",
    "            pos = tag[0].lower()\n",
    "            pos = pos if pos in ['a', 'n', 'v'] else 'n'  # Use 'n' (noun) for all other cases\n",
    "            lemmatized_word = lemmatizer.lemmatize(word, pos)\n",
    "            processed_tokens.append(lemmatized_word)\n",
    "    return ' '.join(processed_tokens)\n",
    "\n",
    "# Apply preprocessing to content titles, search terms, and labels\n",
    "content_data['preprocessed_title'] = content_data['title'].apply(preprocess_text)\n",
    "label_data['preprocessed_searchTerm'] = label_data['searchTerm'].apply(preprocess_text)\n",
    "test_data['preprocessed_searchTerm'] = test_data['searchTerm'].apply(preprocess_text)"
   ]
  },
  {
   "cell_type": "markdown",
   "metadata": {},
   "source": [
    "## Model Building"
   ]
  },
  {
   "cell_type": "code",
   "execution_count": 10,
   "metadata": {},
   "outputs": [],
   "source": [
    "# Load BERT model and tokenizer\n",
    "tokenizer = BertTokenizer.from_pretrained('bert-base-uncased')\n",
    "model = BertModel.from_pretrained('bert-base-uncased', output_hidden_states=True)"
   ]
  },
  {
   "cell_type": "code",
   "execution_count": 11,
   "metadata": {},
   "outputs": [],
   "source": [
    "# Function to get BERT embeddings for a sentence\n",
    "def get_bert_embeddings(text):\n",
    "    inputs = tokenizer(text, return_tensors='pt', truncation=True, padding=True)\n",
    "    outputs = model(**inputs)\n",
    "    hidden_states = outputs.hidden_states\n",
    "    sentence_embedding = torch.mean(hidden_states[-1], dim=1)\n",
    "    return sentence_embedding\n",
    "\n",
    "# Get BERT embeddings for all content titles\n",
    "content_embeddings = []\n",
    "for title in content_data['preprocessed_title']:\n",
    "    content_embeddings.append(get_bert_embeddings(title).detach().numpy())\n",
    "\n",
    "content_embeddings = np.vstack(content_embeddings)"
   ]
  },
  {
   "cell_type": "code",
   "execution_count": 12,
   "metadata": {},
   "outputs": [],
   "source": [
    "# Function to generate recommendations for a search term using cosine similarity\n",
    "def generate_recommendations(search_term, content_embeddings, content_data, top_n=5, similarity_threshold=0.12):\n",
    "    search_embedding = get_bert_embeddings(search_term).detach().numpy()\n",
    "    cosine_similarities = cosine_similarity(search_embedding, content_embeddings).flatten()\n",
    "    \n",
    "    # Filter out content below the similarity threshold\n",
    "    valid_indices = np.where(cosine_similarities >= similarity_threshold)[0]\n",
    "    \n",
    "    if len(valid_indices) == 0:\n",
    "        return pd.DataFrame()  # Return empty DataFrame if no content passes the threshold\n",
    "    \n",
    "    top_indices = valid_indices[np.argsort(cosine_similarities[valid_indices])[-top_n:][::-1]]\n",
    "    \n",
    "    recommendations = content_data.iloc[top_indices].copy()  # Copy to avoid warnings\n",
    "    recommendations.loc[:, 'similarity_score'] = cosine_similarities[top_indices]\n",
    "    \n",
    "    return recommendations[['slug', 'title', 'similarity_score']]"
   ]
  },
  {
   "cell_type": "code",
   "execution_count": 13,
   "metadata": {},
   "outputs": [
    {
     "name": "stdout",
     "output_type": "stream",
     "text": [
      "Classification Report:\n",
      "              precision    recall  f1-score   support\n",
      "\n",
      "       False       0.31      0.98      0.47       241\n",
      "        True       0.96      0.15      0.26       612\n",
      "\n",
      "    accuracy                           0.39       853\n",
      "   macro avg       0.64      0.57      0.37       853\n",
      "weighted avg       0.78      0.39      0.32       853\n",
      "\n",
      "Accuracy Score: 0.38569753810082064\n"
     ]
    }
   ],
   "source": [
    "# Generate recommendations for labeled dataset and evaluate\n",
    "y_true = []\n",
    "y_pred = []\n",
    "\n",
    "for i, row in label_data.iterrows():\n",
    "    search_term = row['preprocessed_searchTerm']\n",
    "    slug = row['slug']\n",
    "    true_label = row['Label'] == 'RELEVANT'\n",
    "    \n",
    "    # Get recommendations for the search term with top_n set to 5 and fine-tuned threshold\n",
    "    recommendations = generate_recommendations(search_term, content_embeddings, content_data, top_n=5, similarity_threshold=0.12)\n",
    "    \n",
    "    # Check if the relevant content slug is in the top recommendations\n",
    "    predicted_label = slug in recommendations['slug'].values\n",
    "    y_true.append(true_label)\n",
    "    y_pred.append(predicted_label)\n",
    "\n",
    "# Evaluate model accuracy\n",
    "print(\"Classification Report:\")\n",
    "print(classification_report(y_true, y_pred))\n",
    "print(\"Accuracy Score:\", accuracy_score(y_true, y_pred))"
   ]
  },
  {
   "cell_type": "code",
   "execution_count": 14,
   "metadata": {},
   "outputs": [
    {
     "name": "stdout",
     "output_type": "stream",
     "text": [
      "Search Term: 34 in. 36 in. x 72 in. shower door\n",
      "                                    slug  \\\n",
      "3117     six-step-walk-in-shower-install   \n",
      "873      how-to-clean-glass-shower-doors   \n",
      "1746  how-to-install-a-pivot-shower-door   \n",
      "376      types-of-shower-bases-and-walls   \n",
      "330              the-best-shower-curtain   \n",
      "\n",
      "                                          title  similarity_score  \n",
      "3117            Six Step Walk-In Shower Install          0.691530  \n",
      "873             How to Clean Glass Shower Doors          0.663976  \n",
      "1746         How To Install a Pivot Shower Door          0.656824  \n",
      "376             Types of Shower Bases and Walls          0.655347  \n",
      "330   The Best Shower Curtain for Your Bathroom          0.652931  \n",
      "\n",
      "\n",
      "Search Term: outdoor prelit christmas tree\n",
      "                                       slug  \\\n",
      "2991  festive-outdoor-christmas-decorations   \n",
      "730           how-to-water-a-christmas-tree   \n",
      "1213                     DIY-holiday-pallet   \n",
      "2760   traditional-nostalgic-christmas-tree   \n",
      "1467       how-to-decorate-a-christmas-tree   \n",
      "\n",
      "                                         title  similarity_score  \n",
      "2991     Festive Outdoor Christmas Decorations          0.836373  \n",
      "730              How to Water a Christmas Tree          0.832845  \n",
      "1213  Christmas Tree Holiday Pallet Decoration          0.819082  \n",
      "2760      Traditional Nostalgic Christmas Tree          0.817753  \n",
      "1467          How to Decorate a Christmas Tree          0.809546  \n",
      "\n",
      "\n",
      "Search Term: respirator\n",
      "                                       slug  \\\n",
      "443               types-of-respirator-masks   \n",
      "377    how-to-perform-a-respirator-fit-test   \n",
      "707      pressure-relief-valve-installation   \n",
      "257                  types-of-shower-valves   \n",
      "971  how-to-clean-an-air-conditioner-filter   \n",
      "\n",
      "                                      title  similarity_score  \n",
      "443               Types of Respirator Masks          0.885836  \n",
      "377    How to Perform a Respirator Fit Test          0.793511  \n",
      "707      Pressure Relief Valve Installation          0.747868  \n",
      "257                  Types of Shower Valves          0.746799  \n",
      "971  How to Clean an Air Conditioner Filter          0.745774  \n",
      "\n",
      "\n",
      "Search Term: 1 gal #hdgb28 paint primer\n",
      "                                                   slug  \\\n",
      "1875                  add-a-last-blast-of-color-indoors   \n",
      "303                 types-of-concrete-paint-applicators   \n",
      "2734     how-to-stain-soft-woods-with-varathane-premium   \n",
      "3151  furniture-refinishing-with-varathane-premium-i...   \n",
      "479                 seer-ratings-&-hvac-efficiency-tips   \n",
      "\n",
      "                                                  title  similarity_score  \n",
      "1875                  Add a Last Blast of Color Indoors          0.745009  \n",
      "303                 Types of Concrete Paint Applicators          0.744109  \n",
      "2734     How to Stain Soft Woods With Varathane Premium          0.739388  \n",
      "3151  Furniture Refinishing with Varathane Premium I...          0.738844  \n",
      "479                 SEER Ratings & HVAC Efficiency Tips          0.737562  \n",
      "\n",
      "\n",
      "Search Term: hydrangea\n",
      "                                   slug                              title  \\\n",
      "2461             how-to-grow-hydrangeas             How to Grow Hydrangeas   \n",
      "2276                how-to-plant-hostas                How to Plant Hostas   \n",
      "1652           pilea-peperomioides-care           Pilea Peperomioides Care   \n",
      "2086                 how-to-plant-roses                 How to Plant Roses   \n",
      "725   plant-a-rose-or-hydrangea-for-mom  Plant a Rose or Hydrangea for Mom   \n",
      "\n",
      "      similarity_score  \n",
      "2461          0.852118  \n",
      "2276          0.786306  \n",
      "1652          0.772961  \n",
      "2086          0.766914  \n",
      "725           0.764497  \n",
      "\n",
      "\n"
     ]
    }
   ],
   "source": [
    "# Generate recommendations for each search term in the test data\n",
    "recommendations_dict = {}\n",
    "for search_term in test_data['preprocessed_searchTerm']:\n",
    "    recommendations_dict[search_term] = generate_recommendations(search_term, content_embeddings, content_data)\n",
    "\n",
    "# Display recommendations for each search term in the test set\n",
    "for search_term, recs in recommendations_dict.items():\n",
    "    print(f\"Search Term: {search_term}\")\n",
    "    print(recs)\n",
    "    print(\"\\n\")"
   ]
  },
  {
   "cell_type": "code",
   "execution_count": null,
   "metadata": {},
   "outputs": [],
   "source": []
  },
  {
   "cell_type": "code",
   "execution_count": 19,
   "metadata": {},
   "outputs": [],
   "source": []
  },
  {
   "cell_type": "code",
   "execution_count": null,
   "metadata": {},
   "outputs": [],
   "source": []
  },
  {
   "cell_type": "code",
   "execution_count": 28,
   "metadata": {},
   "outputs": [],
   "source": []
  },
  {
   "cell_type": "code",
   "execution_count": null,
   "metadata": {},
   "outputs": [],
   "source": []
  }
 ],
 "metadata": {
  "kernelspec": {
   "display_name": "Python 3",
   "language": "python",
   "name": "python3"
  },
  "language_info": {
   "codemirror_mode": {
    "name": "ipython",
    "version": 3
   },
   "file_extension": ".py",
   "mimetype": "text/x-python",
   "name": "python",
   "nbconvert_exporter": "python",
   "pygments_lexer": "ipython3",
   "version": "3.11.5"
  }
 },
 "nbformat": 4,
 "nbformat_minor": 2
}
